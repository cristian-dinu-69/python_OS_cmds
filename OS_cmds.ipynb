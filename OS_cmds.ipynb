{
 "cells": [
  {
   "cell_type": "code",
   "execution_count": 1,
   "metadata": {},
   "outputs": [
    {
     "data": {
      "text/plain": [
       "'/home/cristian/Documents/packt_Hands_On_NLTK'"
      ]
     },
     "execution_count": 1,
     "metadata": {},
     "output_type": "execute_result"
    }
   ],
   "source": [
    "import os\n",
    "os.getcwd()"
   ]
  },
  {
   "cell_type": "code",
   "execution_count": 2,
   "metadata": {},
   "outputs": [
    {
     "data": {
      "text/plain": [
       "['get_data.py',\n",
       " '.venv',\n",
       " 'BOOK',\n",
       " 'data.txt',\n",
       " 'Hands-on-NLP-with-NLTK-and-scikit-learn--master.zip',\n",
       " 'tests.ipynb',\n",
       " 'Hands-on-NLP-with-NLTK-and-scikit-learn--master',\n",
       " 'Raw_data',\n",
       " 'check_modules.py']"
      ]
     },
     "execution_count": 2,
     "metadata": {},
     "output_type": "execute_result"
    }
   ],
   "source": [
    "os.listdir(os.getcwd())"
   ]
  },
  {
   "cell_type": "code",
   "execution_count": 3,
   "metadata": {},
   "outputs": [],
   "source": [
    "os.chdir(\"Raw_data\")"
   ]
  },
  {
   "cell_type": "code",
   "execution_count": 4,
   "metadata": {},
   "outputs": [
    {
     "data": {
      "text/plain": [
       "['enron1',\n",
       " 'enron5',\n",
       " 'enron6.tar.gz',\n",
       " 'enron2.tar.gz',\n",
       " 'enron3.tar.gz',\n",
       " 'enron3',\n",
       " 'enron4',\n",
       " 'enron2',\n",
       " 'enron5.tar.gz',\n",
       " 'enron6',\n",
       " 'enron4.tar.gz',\n",
       " 'enron1.tar.gz']"
      ]
     },
     "execution_count": 4,
     "metadata": {},
     "output_type": "execute_result"
    }
   ],
   "source": [
    "os.listdir(os.getcwd())"
   ]
  },
  {
   "cell_type": "code",
   "execution_count": 5,
   "metadata": {},
   "outputs": [
    {
     "name": "stdout",
     "output_type": "stream",
     "text": [
      "['enron1', 'enron5', 'enron3', 'enron4', 'enron2', 'enron6']\n"
     ]
    }
   ],
   "source": [
    "print([ name for name in os.listdir(os.getcwd()) if os.path.isdir(os.path.join(os.getcwd(), name)) ])"
   ]
  },
  {
   "cell_type": "code",
   "execution_count": 7,
   "metadata": {},
   "outputs": [
    {
     "data": {
      "text/plain": [
       "['enron1', 'enron5', 'enron3', 'enron4', 'enron2', 'enron6']"
      ]
     },
     "execution_count": 7,
     "metadata": {},
     "output_type": "execute_result"
    }
   ],
   "source": [
    "dir_list = [ name for name in os.listdir(os.getcwd()) if os.path.isdir(os.path.join(os.getcwd(), name)) ]\n",
    "dir_list"
   ]
  },
  {
   "cell_type": "code",
   "execution_count": 8,
   "metadata": {},
   "outputs": [],
   "source": [
    "os.chdir(dir_list[0])"
   ]
  },
  {
   "cell_type": "code",
   "execution_count": 9,
   "metadata": {},
   "outputs": [
    {
     "data": {
      "text/plain": [
       "'/home/cristian/Documents/packt_Hands_On_NLTK/Raw_data/enron1'"
      ]
     },
     "execution_count": 9,
     "metadata": {},
     "output_type": "execute_result"
    }
   ],
   "source": [
    "os.getcwd()"
   ]
  },
  {
   "cell_type": "code",
   "execution_count": 10,
   "metadata": {},
   "outputs": [],
   "source": [
    "os.chdir(\"..\")"
   ]
  },
  {
   "cell_type": "code",
   "execution_count": 11,
   "metadata": {},
   "outputs": [
    {
     "data": {
      "text/plain": [
       "'/home/cristian/Documents/packt_Hands_On_NLTK/Raw_data'"
      ]
     },
     "execution_count": 11,
     "metadata": {},
     "output_type": "execute_result"
    }
   ],
   "source": [
    "os.getcwd()"
   ]
  },
  {
   "cell_type": "code",
   "execution_count": 2,
   "metadata": {},
   "outputs": [
    {
     "name": "stdout",
     "output_type": "stream",
     "text": [
      "\n",
      "Current workin directory is : \n",
      "\n",
      "/home/cristian/Documents/packt_Hands_On_NLTK\n",
      "\n"
     ]
    }
   ],
   "source": [
    "\n",
    "print(\"\")\n",
    "print(\"Current workin directory is : \")\n",
    "print(\"\")\n",
    "print(os.getcwd()) \n",
    "print(\"\")"
   ]
  },
  {
   "attachments": {},
   "cell_type": "markdown",
   "metadata": {},
   "source": [
    "Create a Physical Directory"
   ]
  },
  {
   "cell_type": "code",
   "execution_count": 3,
   "metadata": {},
   "outputs": [],
   "source": [
    "os.mkdir(\"MyPythonProject\")"
   ]
  },
  {
   "attachments": {},
   "cell_type": "markdown",
   "metadata": {},
   "source": [
    "Change Working Directory"
   ]
  },
  {
   "cell_type": "code",
   "execution_count": 4,
   "metadata": {},
   "outputs": [],
   "source": [
    "os.chdir(\"MyPythonProject\")"
   ]
  },
  {
   "cell_type": "code",
   "execution_count": 5,
   "metadata": {},
   "outputs": [
    {
     "name": "stdout",
     "output_type": "stream",
     "text": [
      "/home/cristian/Documents/packt_Hands_On_NLTK/MyPythonProject\n"
     ]
    }
   ],
   "source": [
    "print(os.getcwd())"
   ]
  },
  {
   "attachments": {},
   "cell_type": "markdown",
   "metadata": {},
   "source": [
    "Change CWD to Parent"
   ]
  },
  {
   "cell_type": "code",
   "execution_count": 6,
   "metadata": {},
   "outputs": [
    {
     "name": "stdout",
     "output_type": "stream",
     "text": [
      "/home/cristian/Documents/packt_Hands_On_NLTK\n"
     ]
    }
   ],
   "source": [
    "os.chdir(\"..\")\n",
    "print(os.getcwd())"
   ]
  },
  {
   "attachments": {},
   "cell_type": "markdown",
   "metadata": {},
   "source": [
    "Remove Directory"
   ]
  },
  {
   "cell_type": "code",
   "execution_count": 7,
   "metadata": {},
   "outputs": [],
   "source": [
    "os.rmdir(\"MyPythonProject\")"
   ]
  },
  {
   "attachments": {},
   "cell_type": "markdown",
   "metadata": {},
   "source": [
    "List Files and Sub-directories"
   ]
  },
  {
   "cell_type": "code",
   "execution_count": 8,
   "metadata": {},
   "outputs": [
    {
     "name": "stdout",
     "output_type": "stream",
     "text": [
      "['get_data.py', '.venv', 'BOOK', 'learn_os_cmds.py', 'test.ipynb', 'data.txt', 'Hands-on-NLP-with-NLTK-and-scikit-learn--master.zip', 'Hands-on-NLP-with-NLTK-and-scikit-learn--master', 'Raw_data', 'check_modules.py']\n"
     ]
    }
   ],
   "source": [
    "print(os.listdir())"
   ]
  },
  {
   "attachments": {},
   "cell_type": "markdown",
   "metadata": {},
   "source": [
    "get the name of the operating system\n",
    "\n",
    "https://www.w3resource.com/python-exercises/os/python-os-exercise-1.php\n",
    "\n",
    "1. Exercise-1 with Solution\n"
   ]
  },
  {
   "cell_type": "code",
   "execution_count": 10,
   "metadata": {},
   "outputs": [
    {
     "name": "stdout",
     "output_type": "stream",
     "text": [
      "Operating System: posix\n"
     ]
    }
   ],
   "source": [
    "print(\"Operating System:\",os.name)\n"
   ]
  },
  {
   "cell_type": "code",
   "execution_count": 11,
   "metadata": {},
   "outputs": [
    {
     "name": "stdout",
     "output_type": "stream",
     "text": [
      "\n",
      "Information of current operating system:  posix.uname_result(sysname='Linux', nodename='HP', release='5.19.0-43-generic', version='#44~22.04.1-Ubuntu SMP PREEMPT_DYNAMIC Mon May 22 13:39:36 UTC 2', machine='x86_64')\n"
     ]
    }
   ],
   "source": [
    "print(\"\\nInformation of current operating system: \",os.uname())\n"
   ]
  },
  {
   "cell_type": "code",
   "execution_count": 12,
   "metadata": {},
   "outputs": [
    {
     "name": "stdout",
     "output_type": "stream",
     "text": [
      "\n",
      "Current Working Directory:  /home/cristian/Documents/packt_Hands_On_NLTK\n"
     ]
    }
   ],
   "source": [
    "print(\"\\nCurrent Working Directory: \",os.getcwd())\n"
   ]
  },
  {
   "cell_type": "code",
   "execution_count": 13,
   "metadata": {},
   "outputs": [
    {
     "name": "stdout",
     "output_type": "stream",
     "text": [
      "\n",
      "List of files and directories in the current directory:\n"
     ]
    }
   ],
   "source": [
    "print(\"\\nList of files and directories in the current directory:\")\n"
   ]
  },
  {
   "cell_type": "code",
   "execution_count": 14,
   "metadata": {},
   "outputs": [
    {
     "name": "stdout",
     "output_type": "stream",
     "text": [
      "['get_data.py', '.venv', 'BOOK', 'learn_os_cmds.py', 'test.ipynb', 'data.txt', 'Hands-on-NLP-with-NLTK-and-scikit-learn--master.zip', 'Hands-on-NLP-with-NLTK-and-scikit-learn--master', 'Raw_data', 'check_modules.py']\n"
     ]
    }
   ],
   "source": [
    "print(os.listdir('.'))"
   ]
  },
  {
   "attachments": {},
   "cell_type": "markdown",
   "metadata": {},
   "source": [
    "read a file"
   ]
  },
  {
   "cell_type": "code",
   "execution_count": 18,
   "metadata": {},
   "outputs": [
    {
     "name": "stdout",
     "output_type": "stream",
     "text": [
      "1. Salutam Cristian!\n",
      "2. Invata Invata Invata\n",
      "3. O sa iti foloseasca\n"
     ]
    }
   ],
   "source": [
    "try:\n",
    "   filename = 'abc.txt'\n",
    "   f = open(filename, 'r')\n",
    "   text = f.read()\n",
    "   # printeaza tot continut\n",
    "   print(text)\n",
    "   f.close()\n",
    "except IOError:\n",
    "   print('Not accessed or problem in reading: ' + filename)"
   ]
  },
  {
   "attachments": {},
   "cell_type": "markdown",
   "metadata": {},
   "source": [
    "2. Write a Python program to list only directories, files and all directories, files in a specified path."
   ]
  },
  {
   "cell_type": "code",
   "execution_count": 19,
   "metadata": {},
   "outputs": [
    {
     "name": "stdout",
     "output_type": "stream",
     "text": [
      "/home/cristian/Documents/packt_Hands_On_NLTK\n"
     ]
    }
   ],
   "source": [
    "path = str(os.getcwd())\n",
    "print(path)"
   ]
  },
  {
   "cell_type": "code",
   "execution_count": 20,
   "metadata": {},
   "outputs": [
    {
     "name": "stdout",
     "output_type": "stream",
     "text": [
      "Only directories:\n",
      "['.venv', 'BOOK', 'Hands-on-NLP-with-NLTK-and-scikit-learn--master', 'Raw_data']\n"
     ]
    }
   ],
   "source": [
    "print(\"Only directories:\")\n",
    "print([ name for name in os.listdir(path) if os.path.isdir(os.path.join(path, name)) ])\n"
   ]
  },
  {
   "cell_type": "code",
   "execution_count": 21,
   "metadata": {},
   "outputs": [
    {
     "name": "stdout",
     "output_type": "stream",
     "text": [
      "\n",
      "Only files:\n",
      "['abc.txt', 'get_data.py', 'learn_os_cmds.py', 'test.ipynb', 'data.txt', 'Hands-on-NLP-with-NLTK-and-scikit-learn--master.zip', 'check_modules.py']\n"
     ]
    }
   ],
   "source": [
    "print(\"\\nOnly files:\")\n",
    "print([ name for name in os.listdir(path) if not os.path.isdir(os.path.join(path, name)) ])\n"
   ]
  },
  {
   "cell_type": "code",
   "execution_count": 22,
   "metadata": {},
   "outputs": [
    {
     "name": "stdout",
     "output_type": "stream",
     "text": [
      "\n",
      "All directories and files :\n",
      "['abc.txt', 'get_data.py', '.venv', 'BOOK', 'learn_os_cmds.py', 'test.ipynb', 'data.txt', 'Hands-on-NLP-with-NLTK-and-scikit-learn--master.zip', 'Hands-on-NLP-with-NLTK-and-scikit-learn--master', 'Raw_data', 'check_modules.py']\n"
     ]
    }
   ],
   "source": [
    "print(\"\\nAll directories and files :\")\n",
    "print([ name for name in os.listdir(path)])"
   ]
  },
  {
   "attachments": {},
   "cell_type": "markdown",
   "metadata": {},
   "source": [
    "End Exercise-2 with Solution"
   ]
  },
  {
   "attachments": {},
   "cell_type": "markdown",
   "metadata": {},
   "source": [
    "3. Write a Python program to scan a specified directory and identify the subdirectories and files."
   ]
  },
  {
   "cell_type": "code",
   "execution_count": 24,
   "metadata": {},
   "outputs": [],
   "source": [
    "root = str(os.getcwd())"
   ]
  },
  {
   "cell_type": "code",
   "execution_count": 25,
   "metadata": {},
   "outputs": [
    {
     "name": "stdout",
     "output_type": "stream",
     "text": [
      "<posix.ScandirIterator object at 0x7f2abc3c8dc0>\n"
     ]
    }
   ],
   "source": [
    "print(os.scandir(root))"
   ]
  },
  {
   "cell_type": "code",
   "execution_count": 26,
   "metadata": {},
   "outputs": [
    {
     "data": {
      "text/plain": [
       "[<DirEntry 'abc.txt'>,\n",
       " <DirEntry 'get_data.py'>,\n",
       " <DirEntry '.venv'>,\n",
       " <DirEntry 'BOOK'>,\n",
       " <DirEntry 'learn_os_cmds.py'>,\n",
       " <DirEntry 'test.ipynb'>,\n",
       " <DirEntry 'data.txt'>,\n",
       " <DirEntry 'Hands-on-NLP-with-NLTK-and-scikit-learn--master.zip'>,\n",
       " <DirEntry 'Hands-on-NLP-with-NLTK-and-scikit-learn--master'>,\n",
       " <DirEntry 'Raw_data'>,\n",
       " <DirEntry 'check_modules.py'>]"
      ]
     },
     "execution_count": 26,
     "metadata": {},
     "output_type": "execute_result"
    }
   ],
   "source": [
    "list(os.scandir(root))"
   ]
  },
  {
   "cell_type": "code",
   "execution_count": 28,
   "metadata": {},
   "outputs": [
    {
     "name": "stdout",
     "output_type": "stream",
     "text": [
      "abc.txt --> file\n",
      "get_data.py --> file\n",
      ".venv --> dir\n",
      "BOOK --> dir\n",
      "learn_os_cmds.py --> file\n",
      "test.ipynb --> file\n",
      "data.txt --> file\n",
      "Hands-on-NLP-with-NLTK-and-scikit-learn--master.zip --> file\n",
      "Hands-on-NLP-with-NLTK-and-scikit-learn--master --> dir\n",
      "Raw_data --> dir\n",
      "check_modules.py --> file\n"
     ]
    }
   ],
   "source": [
    "for entry in os.scandir(root):\n",
    "   if entry.is_dir():\n",
    "       typ = '--> dir'\n",
    "   elif entry.is_file():\n",
    "       typ = '--> file'\n",
    "   elif entry.is_symlink():\n",
    "       typ = '--> link'\n",
    "   else:\n",
    "       typ = '--->U NKNOWN <--'\n",
    "   print('{name} {typ}'.format(name=entry.name,typ=typ))"
   ]
  },
  {
   "attachments": {},
   "cell_type": "markdown",
   "metadata": {},
   "source": [
    "End Exercise-3 with Solution"
   ]
  },
  {
   "attachments": {},
   "cell_type": "markdown",
   "metadata": {},
   "source": [
    "4. Write a Python program to check access to a specified path. \n",
    "* Test the existence, readability, writability and executability of the specified path.\n",
    "* https://www.w3resource.com/python-exercises/os/python-os-exercise-4.php"
   ]
  },
  {
   "cell_type": "code",
   "execution_count": 32,
   "metadata": {},
   "outputs": [
    {
     "name": "stdout",
     "output_type": "stream",
     "text": [
      "/home/cristian/Documents/packt_Hands_On_NLTK/abc.txt\n"
     ]
    }
   ],
   "source": [
    "path_to_file = os.path.join(os.getcwd(),\"abc.txt\")\n",
    "print(path_to_file)\n",
    "\n"
   ]
  },
  {
   "cell_type": "code",
   "execution_count": 31,
   "metadata": {},
   "outputs": [
    {
     "name": "stdout",
     "output_type": "stream",
     "text": [
      "Exist: True\n"
     ]
    }
   ],
   "source": [
    "print('Exist:', os.access(path_to_file, os.F_OK))\n"
   ]
  },
  {
   "cell_type": "code",
   "execution_count": 32,
   "metadata": {},
   "outputs": [
    {
     "name": "stdout",
     "output_type": "stream",
     "text": [
      "Readable: True\n"
     ]
    }
   ],
   "source": [
    "print('Readable:', os.access(path_to_file, os.R_OK))\n"
   ]
  },
  {
   "cell_type": "code",
   "execution_count": 33,
   "metadata": {},
   "outputs": [
    {
     "name": "stdout",
     "output_type": "stream",
     "text": [
      "Writable: True\n"
     ]
    }
   ],
   "source": [
    "print('Writable:', os.access(path_to_file, os.W_OK))\n"
   ]
  },
  {
   "cell_type": "code",
   "execution_count": 34,
   "metadata": {},
   "outputs": [
    {
     "name": "stdout",
     "output_type": "stream",
     "text": [
      "Executable: False\n"
     ]
    }
   ],
   "source": [
    "print('Executable:', os.access(path_to_file, os.X_OK))"
   ]
  },
  {
   "attachments": {},
   "cell_type": "markdown",
   "metadata": {},
   "source": [
    "End Exercise-4 with Solution"
   ]
  },
  {
   "attachments": {},
   "cell_type": "markdown",
   "metadata": {},
   "source": [
    "5. Write a Python program to get the : \n",
    "* size, permissions, owner, device, created, \n",
    "* last modified and last accessed date and time of a specified path\n",
    "* (path_to file)"
   ]
  },
  {
   "cell_type": "code",
   "execution_count": 36,
   "metadata": {},
   "outputs": [
    {
     "name": "stdout",
     "output_type": "stream",
     "text": [
      "Path Name (/home/cristian/Documents/packt_Hands_On_NLTK/abc.txt):\n"
     ]
    }
   ],
   "source": [
    "import os\n",
    "import sys\n",
    "import time\n",
    "\n",
    "path = path_to_file\n",
    "print('Path Name ({}):'.format(path))\n",
    "\n"
   ]
  },
  {
   "cell_type": "code",
   "execution_count": 45,
   "metadata": {},
   "outputs": [
    {
     "name": "stdout",
     "output_type": "stream",
     "text": [
      "Status of /home/cristian/Documents/packt_Hands_On_NLTK/abc.txt: os.stat_result(st_mode=33204, st_ino=4494528, st_dev=66306, st_nlink=1, st_uid=1000, st_gid=1000, st_size=67, st_atime=1686421336, st_mtime=1686421336, st_ctime=1686421336)\n"
     ]
    }
   ],
   "source": [
    "print(f\"Status of {path_to_file}:\", \\\n",
    "      os.stat(path_to_file))"
   ]
  },
  {
   "cell_type": "code",
   "execution_count": 52,
   "metadata": {},
   "outputs": [],
   "source": [
    "stat_info = os.stat(path_to_file)"
   ]
  },
  {
   "cell_type": "code",
   "execution_count": 53,
   "metadata": {},
   "outputs": [
    {
     "name": "stdout",
     "output_type": "stream",
     "text": [
      "Size: 67\n",
      "Permissions: 0o100664\n",
      "Owner: 1000\n",
      "Device: 66306\n",
      "Created     : Sat Jun 10 21:22:16 2023\n",
      "Last modified: Sat Jun 10 21:22:16 2023\n",
      "Last accessed: Sat Jun 10 21:22:16 2023\n"
     ]
    }
   ],
   "source": [
    "print('Size:', stat_info.st_size)\n",
    "print('Permissions:', oct(stat_info.st_mode))\n",
    "print('Owner:', stat_info.st_uid)\n",
    "print('Device:', stat_info.st_dev)\n",
    "print('Created     :', time.ctime(stat_info.st_ctime))\n",
    "print('Last modified:', time.ctime(stat_info.st_mtime))\n",
    "print('Last accessed:', time.ctime(stat_info.st_atime))"
   ]
  },
  {
   "attachments": {},
   "cell_type": "markdown",
   "metadata": {},
   "source": [
    "End Exercise-5 with Solution\n",
    "* https://www.w3resource.com/python-exercises/os/python-os-exercise-5.php"
   ]
  },
  {
   "attachments": {},
   "cell_type": "markdown",
   "metadata": {},
   "source": [
    "6. Write a Python program to create a symbolic link and read it to determine the original file pointed to by the link."
   ]
  },
  {
   "attachments": {},
   "cell_type": "markdown",
   "metadata": {},
   "source": [
    "path = '/tmp/' + os.path.basename(__file__)\n",
    "\n",
    "print('Creating link {} -> {}'.format(path, __file__))\n",
    "\n",
    "os.symlink(__file__, path)\n",
    "\n",
    "stat_info = os.lstat(path)\n",
    "\n",
    "print('\\nFile Permissions:', oct(stat_info.st_mode))\n",
    "\n",
    "print('\\nPoints to:', os.readlink(path))\n",
    "\n",
    "#removes the file path\n",
    "\n",
    "os.unlink(path)"
   ]
  },
  {
   "attachments": {},
   "cell_type": "markdown",
   "metadata": {},
   "source": [
    "7. Write a Python program to create a file and write some text and rename the file name."
   ]
  },
  {
   "cell_type": "code",
   "execution_count": 12,
   "metadata": {},
   "outputs": [
    {
     "name": "stdout",
     "output_type": "stream",
     "text": [
      "\n",
      "Initial file/dir name: ['abc.txt', 'get_data.py', '.venv', 'BOOK', 'learn_os_cmds.py', 'test.ipynb', 'data.txt', 'Hands-on-NLP-with-NLTK-and-scikit-learn--master.zip', 'Hands-on-NLP-with-NLTK-and-scikit-learn--master', 'Raw_data', 'check_modules.py', 'a.txt', 'b.txt']\n"
     ]
    }
   ],
   "source": [
    "import glob\n",
    "import os\n",
    "\n",
    "with open('a.txt', 'w') as f:\n",
    "   f.write('Python program to create a symbolic link and read it to decide the original file pointed by the link.')\n",
    "print('\\nInitial file/dir name:', os.listdir())\n",
    "\n"
   ]
  },
  {
   "cell_type": "code",
   "execution_count": 13,
   "metadata": {},
   "outputs": [
    {
     "name": "stdout",
     "output_type": "stream",
     "text": [
      "\n",
      "Contents of a.txt: 'Python program to create a symbolic link and read it to decide the original file pointed by the link.'\n"
     ]
    }
   ],
   "source": [
    "with open('a.txt', 'r') as f:\n",
    "   print('\\nContents of a.txt:', repr(f.read()))  "
   ]
  },
  {
   "cell_type": "code",
   "execution_count": 14,
   "metadata": {},
   "outputs": [],
   "source": [
    "os.rename('a.txt', 'b.txt')"
   ]
  },
  {
   "cell_type": "code",
   "execution_count": 15,
   "metadata": {},
   "outputs": [
    {
     "name": "stdout",
     "output_type": "stream",
     "text": [
      "\n",
      "After renaming initial file/dir name: ['abc.txt', 'get_data.py', '.venv', 'BOOK', 'learn_os_cmds.py', 'test.ipynb', 'data.txt', 'Hands-on-NLP-with-NLTK-and-scikit-learn--master.zip', 'Hands-on-NLP-with-NLTK-and-scikit-learn--master', 'Raw_data', 'check_modules.py', 'b.txt']\n",
      "\n",
      "Contents of b.txt: 'Python program to create a symbolic link and read it to decide the original file pointed by the link.'\n"
     ]
    }
   ],
   "source": [
    "print('\\nAfter renaming initial file/dir name:', os.listdir())\n",
    "with open('b.txt', 'r') as f:\n",
    "   print('\\nContents of b.txt:', repr(f.read()))"
   ]
  },
  {
   "attachments": {},
   "cell_type": "markdown",
   "metadata": {},
   "source": [
    "8. Write a Python program to find the parent's process ID, real user ID of the current process and change the real user ID."
   ]
  },
  {
   "cell_type": "code",
   "execution_count": 16,
   "metadata": {},
   "outputs": [
    {
     "name": "stdout",
     "output_type": "stream",
     "text": [
      "Parent’s process id: 3114\n",
      "\n",
      "User ID of the current process: 1000\n"
     ]
    }
   ],
   "source": [
    "print(\"Parent’s process id:\",os.getppid())\n",
    "uid = os.getuid()\n",
    "print(\"\\nUser ID of the current process:\", uid)\n"
   ]
  },
  {
   "cell_type": "code",
   "execution_count": null,
   "metadata": {},
   "outputs": [],
   "source": [
    "# uid = 1400\n",
    "# os.setuid(uid)\n",
    "# print(\"\\nUser ID changed\")\n",
    "# print(\"User ID of the current process:\", os.getuid())"
   ]
  },
  {
   "attachments": {},
   "cell_type": "markdown",
   "metadata": {},
   "source": [
    "9. Write a Python program to retrieve the current working directory and change the dir (move up one)."
   ]
  },
  {
   "cell_type": "code",
   "execution_count": 17,
   "metadata": {},
   "outputs": [
    {
     "name": "stdout",
     "output_type": "stream",
     "text": [
      "Current dir: /home/cristian/Documents/packt_Hands_On_NLTK\n",
      "\n",
      "Change the dir (moving up one): ..\n"
     ]
    }
   ],
   "source": [
    "print('Current dir:', os.getcwd())\n",
    "print('\\nChange the dir (moving up one):', os.pardir)\n"
   ]
  },
  {
   "cell_type": "code",
   "execution_count": 18,
   "metadata": {},
   "outputs": [
    {
     "name": "stdout",
     "output_type": "stream",
     "text": [
      "Current dir: /home/cristian/Documents\n"
     ]
    }
   ],
   "source": [
    "os.chdir(os.pardir)\n",
    "print('Current dir:', os.getcwd())\n"
   ]
  },
  {
   "cell_type": "code",
   "execution_count": 19,
   "metadata": {},
   "outputs": [
    {
     "name": "stdout",
     "output_type": "stream",
     "text": [
      "\n",
      "Change the dir (moving up one): ..\n",
      "Current dir: /home/cristian\n"
     ]
    }
   ],
   "source": [
    "print('\\nChange the dir (moving up one):', os.pardir)\n",
    "os.chdir(os.pardir)\n",
    "print('Current dir:', os.getcwd())"
   ]
  },
  {
   "cell_type": "code",
   "execution_count": 21,
   "metadata": {},
   "outputs": [],
   "source": [
    "os.chdir(\"Documents\")"
   ]
  },
  {
   "cell_type": "code",
   "execution_count": 22,
   "metadata": {},
   "outputs": [
    {
     "data": {
      "text/plain": [
       "'/home/cristian/Documents'"
      ]
     },
     "execution_count": 22,
     "metadata": {},
     "output_type": "execute_result"
    }
   ],
   "source": [
    "os.getcwd()"
   ]
  },
  {
   "cell_type": "code",
   "execution_count": 23,
   "metadata": {},
   "outputs": [],
   "source": [
    "os.chdir(\"packt_Hands_On_NLTK\")"
   ]
  },
  {
   "attachments": {},
   "cell_type": "markdown",
   "metadata": {},
   "source": [
    "10. Write a Python program to access environment variables and the value of the environment variable."
   ]
  },
  {
   "cell_type": "code",
   "execution_count": 24,
   "metadata": {},
   "outputs": [
    {
     "name": "stdout",
     "output_type": "stream",
     "text": [
      "Access all environment variables:\n",
      "*----------------------------------*\n",
      "environ({'BAMF_DESKTOP_FILE_HINT': '/var/lib/snapd/desktop/applications/code_code.desktop', 'CHROME_DESKTOP': 'code-url-handler.desktop', 'DBUS_SESSION_BUS_ADDRESS': 'unix:path=/run/user/1000/bus', 'DESKTOP_SESSION': 'ubuntu', 'DISPLAY': ':0', 'ELECTRON_NO_ATTACH_CONSOLE': '1', 'GDK_BACKEND': 'x11', 'GDK_PIXBUF_MODULEDIR': '/snap/code/130/usr/lib/x86_64-linux-gnu/gdk-pixbuf-2.0/2.10.0/loaders', 'GDK_PIXBUF_MODULE_FILE': '/home/cristian/snap/code/common/.cache/gdk-pixbuf-loaders.cache', 'GDMSESSION': 'ubuntu', 'GIO_LAUNCHED_DESKTOP_FILE': '/var/lib/snapd/desktop/applications/code_code.desktop', 'GIO_LAUNCHED_DESKTOP_FILE_PID': '2818', 'GIO_MODULE_DIR': '/home/cristian/snap/code/common/.cache/gio-modules', 'GJS_DEBUG_OUTPUT': 'stderr', 'GJS_DEBUG_TOPICS': 'JS ERROR;JS LOG', 'GNOME_DESKTOP_SESSION_ID': 'this-is-deprecated', 'GNOME_SETUP_DISPLAY': ':1', 'GNOME_SHELL_SESSION_MODE': 'ubuntu', 'GSETTINGS_SCHEMA_DIR': '/home/cristian/snap/code/130/.local/share/glib-2.0/schemas', 'GTK_EXE_PREFIX': '/snap/code/130/usr', 'GTK_IM_MODULE_FILE': '/home/cristian/snap/code/common/.cache/immodules/immodules.cache', 'GTK_MODULES': 'gail:atk-bridge', 'GTK_PATH': '/snap/code/130/usr/lib/x86_64-linux-gnu/gtk-3.0', 'HOME': '/home/cristian', 'IM_CONFIG_CHECK_ENV': '1', 'IM_CONFIG_PHASE': '1', 'INVOCATION_ID': '40b6296e865247d3a159ddf3d3907842', 'JOURNAL_STREAM': '8:25569', 'LANG': 'en_US.UTF-8', 'LC_ADDRESS': 'ro_RO.UTF-8', 'LC_IDENTIFICATION': 'ro_RO.UTF-8', 'LC_MEASUREMENT': 'ro_RO.UTF-8', 'LC_MONETARY': 'ro_RO.UTF-8', 'LC_NAME': 'ro_RO.UTF-8', 'LC_NUMERIC': 'ro_RO.UTF-8', 'LC_PAPER': 'ro_RO.UTF-8', 'LC_TELEPHONE': 'ro_RO.UTF-8', 'LC_TIME': 'ro_RO.UTF-8', 'LESSCLOSE': '/usr/bin/lesspipe %s %s', 'LESSOPEN': '| /usr/bin/lesspipe %s', 'LOCPATH': '/snap/code/130/usr/lib/locale', 'LOGNAME': 'cristian', 'MANAGERPID': '1860', 'ORIGINAL_XDG_CURRENT_DESKTOP': 'ubuntu:GNOME', 'PATH': '/home/cristian/Documents/packt_Hands_On_NLTK/.venv/bin:/usr/local/sbin:/usr/local/bin:/usr/sbin:/usr/bin:/sbin:/bin:/usr/games:/usr/local/games:/snap/bin:/snap/bin', 'PWD': '/home/cristian', 'QT_ACCESSIBILITY': '1', 'QT_IM_MODULE': 'ibus', 'SESSION_MANAGER': 'local/HP:@/tmp/.ICE-unix/2055,unix/HP:/tmp/.ICE-unix/2055', 'SHELL': '/bin/bash', 'SHLVL': '0', 'SNAP': '/snap/code/130', 'SNAP_ARCH': 'amd64', 'SNAP_COMMON': '/var/snap/code/common', 'SNAP_CONTEXT': '838ZXfeC-D8RCgCEg1I2bHOdZRVxUj6Csxykl8rAszDYJf4MJH3f', 'SNAP_COOKIE': '838ZXfeC-D8RCgCEg1I2bHOdZRVxUj6Csxykl8rAszDYJf4MJH3f', 'SNAP_DATA': '/var/snap/code/130', 'SNAP_INSTANCE_NAME': 'code', 'SNAP_LAUNCHER_ARCH_TRIPLET': 'x86_64-linux-gnu', 'SNAP_LIBRARY_PATH': '/var/lib/snapd/lib/gl:/var/lib/snapd/lib/gl32:/var/lib/snapd/void', 'SNAP_NAME': 'code', 'SNAP_REAL_HOME': '/home/cristian', 'SNAP_REVISION': '130', 'SNAP_USER_COMMON': '/home/cristian/snap/code/common', 'SNAP_USER_DATA': '/home/cristian/snap/code/130', 'SNAP_VERSION': 'b380da4e', 'SSH_AGENT_LAUNCHER': 'gnome-keyring', 'SSH_AUTH_SOCK': '/run/user/1000/keyring/ssh', 'SYSTEMD_EXEC_PID': '2074', 'USER': 'cristian', 'USERNAME': 'cristian', 'VSCODE_AMD_ENTRYPOINT': 'vs/workbench/api/node/extensionHostProcess', 'VSCODE_CLI': '1', 'VSCODE_CODE_CACHE_PATH': '/home/cristian/.config/Code/CachedData/b380da4ef1ee00e224a15c1d4d9793e27c2b6302', 'VSCODE_CRASH_REPORTER_PROCESS_TYPE': 'extensionHost', 'VSCODE_CWD': '/home/cristian', 'VSCODE_HANDLES_UNCAUGHT_ERRORS': 'true', 'VSCODE_IPC_HOOK': '/run/user/1000/vscode-e43fb2dc-1.79-main.sock', 'VSCODE_NLS_CONFIG': '{\"locale\":\"en-us\",\"osLocale\":\"en-us\",\"availableLanguages\":{},\"_languagePackSupport\":true}', 'VSCODE_PID': '2864', 'WAYLAND_DISPLAY': 'wayland-0', 'XAUTHORITY': '/run/user/1000/.mutter-Xwaylandauth.JNX551', 'XDG_CONFIG_DIRS': '/etc/xdg/xdg-ubuntu:/etc/xdg', 'XDG_CURRENT_DESKTOP': 'Unity', 'XDG_DATA_DIRS': '/home/cristian/snap/code/130/.local/share:/home/cristian/snap/code/130:/snap/code/130/usr/share:/usr/share/ubuntu:/usr/local/share/:/usr/share/:/var/lib/snapd/desktop', 'XDG_MENU_PREFIX': 'gnome-', 'XDG_RUNTIME_DIR': '/run/user/1000', 'XDG_SESSION_CLASS': 'user', 'XDG_SESSION_DESKTOP': 'ubuntu', 'XDG_SESSION_TYPE': 'wayland', 'XMODIFIERS': '@im=ibus', '_': '/home/cristian/Documents/packt_Hands_On_NLTK/.venv/bin/python', 'ELECTRON_RUN_AS_NODE': '1', 'PYTHONUNBUFFERED': '1', 'VIRTUAL_ENV': '/home/cristian/Documents/packt_Hands_On_NLTK/.venv', 'PYTHONIOENCODING': 'utf-8', 'PS1': '(.venv) ', 'PYDEVD_IPYTHON_COMPATIBLE_DEBUGGING': '1', 'PYDEVD_USE_FRAME_EVAL': 'NO', 'TERM': 'xterm-color', 'CLICOLOR': '1', 'FORCE_COLOR': '1', 'CLICOLOR_FORCE': '1', 'PAGER': 'cat', 'GIT_PAGER': 'cat', 'MPLBACKEND': 'module://matplotlib_inline.backend_inline'})\n"
     ]
    }
   ],
   "source": [
    "print(\"Access all environment variables:\")\n",
    "print('*----------------------------------*')\n",
    "print(os.environ)\n"
   ]
  },
  {
   "cell_type": "code",
   "execution_count": 25,
   "metadata": {},
   "outputs": [
    {
     "name": "stdout",
     "output_type": "stream",
     "text": [
      "*----------------------------------*\n",
      "Access a particular environment variable:\n",
      "/home/cristian\n"
     ]
    }
   ],
   "source": [
    "print('*----------------------------------*')\n",
    "print(\"Access a particular environment variable:\")\n",
    "print(os.environ['HOME'])\n",
    "\n"
   ]
  },
  {
   "cell_type": "code",
   "execution_count": 26,
   "metadata": {},
   "outputs": [
    {
     "name": "stdout",
     "output_type": "stream",
     "text": [
      "*----------------------------------*\n",
      "/home/cristian/Documents/packt_Hands_On_NLTK/.venv/bin:/usr/local/sbin:/usr/local/bin:/usr/sbin:/usr/bin:/sbin:/bin:/usr/games:/usr/local/games:/snap/bin:/snap/bin\n"
     ]
    }
   ],
   "source": [
    "print('*----------------------------------*')\n",
    "print(os.environ['PATH'])\n"
   ]
  },
  {
   "cell_type": "code",
   "execution_count": 27,
   "metadata": {},
   "outputs": [
    {
     "name": "stdout",
     "output_type": "stream",
     "text": [
      "*----------------------------------*\n",
      "Value of the environment variable key:\n",
      "None\n",
      "None\n"
     ]
    }
   ],
   "source": [
    "print('*----------------------------------*')\n",
    "print('Value of the environment variable key:')\n",
    "print(os.getenv('JAVA_HOME'))\n",
    "print(os.getenv('PYTHONPATH'))"
   ]
  },
  {
   "attachments": {},
   "cell_type": "markdown",
   "metadata": {},
   "source": [
    "11. Write a Python program to iterate over a root level path and print all its sub-directories and files, as well as loop over specified dirs and files."
   ]
  },
  {
   "cell_type": "code",
   "execution_count": 28,
   "metadata": {},
   "outputs": [
    {
     "name": "stdout",
     "output_type": "stream",
     "text": [
      "Iterate over a root level path:\n",
      "/tmp/\n",
      "/tmp/pyright-3582-dxnPaEIaEwmQ\n",
      "/tmp/.ICE-unix\n",
      "/tmp/python-languageserver-cancellation\n",
      "/tmp/python-languageserver-cancellation/fd6170180598391bf8b4815faab47a3112e1951793\n",
      "/tmp/pyright-3563-9NHbr3auTiDZ\n",
      "/tmp/.XIM-unix\n",
      "/tmp/.com.google.Chrome.GLf3n2\n",
      "/tmp/.X11-unix\n",
      "/tmp/.font-unix\n",
      "/tmp/tracker-extract-3-files.1000\n",
      "/tmp/.Test-unix\n",
      "/tmp/pyright-3582-BXCjO6ZT1u1n\n"
     ]
    }
   ],
   "source": [
    "print('Iterate over a root level path:')\n",
    "path = '/tmp/'\n",
    "for root, dirs, files in os.walk(path):\n",
    " print(root)"
   ]
  },
  {
   "cell_type": "code",
   "execution_count": 29,
   "metadata": {},
   "outputs": [
    {
     "name": "stdout",
     "output_type": "stream",
     "text": [
      "Loop over dirs and files:\n",
      "/tmp/\n",
      "pyright-3582-dxnPaEIaEwmQ\n",
      ".ICE-unix\n",
      "python-languageserver-cancellation\n",
      "systemd-private-d7650faa7bd442b8bf8975655b459cb2-bluetooth.service-zusKLf\n",
      "pyright-3563-9NHbr3auTiDZ\n",
      ".XIM-unix\n",
      "snap-private-tmp\n",
      "systemd-private-d7650faa7bd442b8bf8975655b459cb2-power-profiles-daemon.service-dYW4g4\n",
      "systemd-private-d7650faa7bd442b8bf8975655b459cb2-fwupd.service-hOqP4H\n",
      ".com.google.Chrome.GLf3n2\n",
      "systemd-private-d7650faa7bd442b8bf8975655b459cb2-systemd-logind.service-tw56Ex\n",
      ".X11-unix\n",
      "tracker-extract-3-files.128\n",
      "systemd-private-d7650faa7bd442b8bf8975655b459cb2-ModemManager.service-4YPsKV\n",
      "systemd-private-d7650faa7bd442b8bf8975655b459cb2-systemd-oomd.service-i7uVvq\n",
      ".font-unix\n",
      "tracker-extract-3-files.1000\n",
      "systemd-private-d7650faa7bd442b8bf8975655b459cb2-switcheroo-control.service-DJ7yPf\n",
      "systemd-private-d7650faa7bd442b8bf8975655b459cb2-upower.service-I9i6il\n",
      "systemd-private-d7650faa7bd442b8bf8975655b459cb2-systemd-resolved.service-VyDWmO\n",
      ".Test-unix\n",
      "pyright-3582-BXCjO6ZT1u1n\n",
      "systemd-private-d7650faa7bd442b8bf8975655b459cb2-colord.service-CzPGXW\n",
      "systemd-private-d7650faa7bd442b8bf8975655b459cb2-systemd-timesyncd.service-1K7V7k\n",
      ".X0-lock\n",
      ".X1024-lock\n",
      ".X1025-lock\n",
      ".X1-lock\n",
      "/tmp/pyright-3582-dxnPaEIaEwmQ\n",
      "builtins-3582-R00V6VMnJYP4-.py\n",
      "/tmp/.ICE-unix\n",
      "1213\n",
      "2055\n",
      "/tmp/python-languageserver-cancellation\n",
      "fd6170180598391bf8b4815faab47a3112e1951793\n",
      "/tmp/python-languageserver-cancellation/fd6170180598391bf8b4815faab47a3112e1951793\n",
      "/tmp/pyright-3563-9NHbr3auTiDZ\n",
      "/tmp/.XIM-unix\n",
      "/tmp/.com.google.Chrome.GLf3n2\n",
      "SingletonSocket\n",
      "SingletonCookie\n",
      "/tmp/.X11-unix\n",
      "X0\n",
      "X1\n",
      "X1024\n",
      "X1025\n",
      "/tmp/.font-unix\n",
      "/tmp/tracker-extract-3-files.1000\n",
      "/tmp/.Test-unix\n",
      "/tmp/pyright-3582-BXCjO6ZT1u1n\n"
     ]
    }
   ],
   "source": [
    "print('Loop over dirs and files:')\n",
    "path = '/tmp/'\n",
    "for root, dirs, files in os.walk(path):\n",
    "       print(root)\n",
    "       for _dir in dirs:\n",
    "           print(_dir)\n",
    "       for _file in files:\n",
    "           print(_file)"
   ]
  },
  {
   "attachments": {},
   "cell_type": "markdown",
   "metadata": {},
   "source": [
    "12. Write a Python program to test whether a given path exists or not. Find the filename and directory portion of the path if it exists."
   ]
  },
  {
   "cell_type": "code",
   "execution_count": 33,
   "metadata": {},
   "outputs": [
    {
     "data": {
      "text/plain": [
       "'/home/cristian/Documents/packt_Hands_On_NLTK/abc.txt'"
      ]
     },
     "execution_count": 33,
     "metadata": {},
     "output_type": "execute_result"
    }
   ],
   "source": [
    "path_to_file"
   ]
  },
  {
   "cell_type": "code",
   "execution_count": 34,
   "metadata": {},
   "outputs": [
    {
     "name": "stdout",
     "output_type": "stream",
     "text": [
      "Test a path exists or not:\n",
      "True\n"
     ]
    }
   ],
   "source": [
    "print(\"Test a path exists or not:\")\n",
    "path = path_to_file\n",
    "print(os.path.exists(path))\n"
   ]
  },
  {
   "cell_type": "code",
   "execution_count": 35,
   "metadata": {},
   "outputs": [
    {
     "name": "stdout",
     "output_type": "stream",
     "text": [
      "False\n"
     ]
    }
   ],
   "source": [
    "path = '/home/cristian/Documents/packt_Hands_On_NLTK/p.txt'\n",
    "print(os.path.exists(path))\n"
   ]
  },
  {
   "cell_type": "code",
   "execution_count": 36,
   "metadata": {},
   "outputs": [
    {
     "name": "stdout",
     "output_type": "stream",
     "text": [
      "\n",
      "File name of the path:\n",
      "p.txt\n"
     ]
    }
   ],
   "source": [
    "print(\"\\nFile name of the path:\")\n",
    "print(os.path.basename(path))\n"
   ]
  },
  {
   "cell_type": "code",
   "execution_count": 37,
   "metadata": {},
   "outputs": [
    {
     "name": "stdout",
     "output_type": "stream",
     "text": [
      "\n",
      "Dir name of the path:\n",
      "/home/cristian/Documents/packt_Hands_On_NLTK\n"
     ]
    }
   ],
   "source": [
    "print(\"\\nDir name of the path:\")\n",
    "print(os.path.dirname(path))"
   ]
  },
  {
   "attachments": {},
   "cell_type": "markdown",
   "metadata": {},
   "source": [
    "13. Write a Python program to join one or more path components together and split a given path into directories and files."
   ]
  },
  {
   "cell_type": "code",
   "execution_count": 3,
   "metadata": {},
   "outputs": [],
   "source": [
    "import os"
   ]
  },
  {
   "cell_type": "code",
   "execution_count": 4,
   "metadata": {},
   "outputs": [
    {
     "data": {
      "text/plain": [
       "'/home/cristian/Documents/packt_Hands_On_NLTK'"
      ]
     },
     "execution_count": 4,
     "metadata": {},
     "output_type": "execute_result"
    }
   ],
   "source": [
    "os.getcwd()"
   ]
  },
  {
   "cell_type": "code",
   "execution_count": 8,
   "metadata": {},
   "outputs": [
    {
     "name": "stdout",
     "output_type": "stream",
     "text": [
      "Original path:\n",
      "/home/cristian/Documents/packt_Hands_On_NLTK\n"
     ]
    }
   ],
   "source": [
    "path = '/home/cristian/Documents/packt_Hands_On_NLTK'\n",
    "print(\"Original path:\")\n",
    "print(path)\n"
   ]
  },
  {
   "cell_type": "code",
   "execution_count": 9,
   "metadata": {},
   "outputs": [
    {
     "name": "stdout",
     "output_type": "stream",
     "text": [
      "\n",
      "Dir and file name of the said path:\n",
      "('/home/cristian/Documents', 'packt_Hands_On_NLTK')\n"
     ]
    }
   ],
   "source": [
    "print(\"\\nDir and file name of the said path:\")\n",
    "print(os.path.split(path))\n"
   ]
  },
  {
   "cell_type": "code",
   "execution_count": 10,
   "metadata": {},
   "outputs": [
    {
     "name": "stdout",
     "output_type": "stream",
     "text": [
      "\n",
      "Join one or more path components together:\n",
      "/home/cristian/Documents/packt_Hands_On_NLTK/abc.txt\n"
     ]
    }
   ],
   "source": [
    "print(\"\\nJoin one or more path components together:\")\n",
    "print(os.path.join(path,'abc.txt'))"
   ]
  },
  {
   "attachments": {},
   "cell_type": "markdown",
   "metadata": {},
   "source": [
    "14. Write a Python program to alter the owner and the group ID of a specified file."
   ]
  },
  {
   "cell_type": "code",
   "execution_count": 11,
   "metadata": {},
   "outputs": [],
   "source": [
    "fd = os.open( \"/tmp\", os.O_RDONLY )\n"
   ]
  },
  {
   "cell_type": "code",
   "execution_count": null,
   "metadata": {},
   "outputs": [],
   "source": [
    "# os.fchown( fd, 100, -1)\n",
    "# os.fchown( fd, -1, 50)\n",
    "# print(\"Changed ownership successfully..\")\n",
    "# os.close( fd )"
   ]
  },
  {
   "attachments": {},
   "cell_type": "markdown",
   "metadata": {},
   "source": [
    "15. Write a Python program to get information about the file pertaining to file mode. \n",
    "\n",
    "Print the information - ID of device containing file, inode number, protection, number of hard links, user ID of owner, group ID of owner, total size (in bytes), time of last access, time of last modification and time of last status change.\n"
   ]
  },
  {
   "cell_type": "code",
   "execution_count": 13,
   "metadata": {},
   "outputs": [],
   "source": [
    "path_to_file = '/home/cristian/Documents/packt_Hands_On_NLTK/abc.txt'"
   ]
  },
  {
   "cell_type": "code",
   "execution_count": 14,
   "metadata": {},
   "outputs": [],
   "source": [
    "path = path_to_file\n",
    "fd = os.open(path, os.O_RDWR)\n",
    "info = os.fstat(fd)\n"
   ]
  },
  {
   "cell_type": "code",
   "execution_count": 15,
   "metadata": {},
   "outputs": [
    {
     "name": "stdout",
     "output_type": "stream",
     "text": [
      "os.stat_result(st_mode=33204, st_ino=4494528, st_dev=66306, st_nlink=1, st_uid=1000, st_gid=1000, st_size=67, st_atime=1686421336, st_mtime=1686421336, st_ctime=1686421336)\n"
     ]
    }
   ],
   "source": [
    "print(info)"
   ]
  },
  {
   "cell_type": "code",
   "execution_count": 16,
   "metadata": {},
   "outputs": [
    {
     "name": "stdout",
     "output_type": "stream",
     "text": [
      "ID of device containing file: 66306\n",
      "Inode number: 4494528\n",
      "Protection: 33204\n",
      "Number of hard links: 1\n",
      "User ID of owner: 1000\n",
      "Group ID of owner: 1000\n",
      "Total size, in bytes: 67\n",
      "Time of last access: 1686421336.4515295\n",
      "Time of last modification: 1686421336.4355295\n",
      "Time of last status change: 1686421336.4355295\n"
     ]
    }
   ],
   "source": [
    "print (f\"ID of device containing file: {info.st_dev}\")\n",
    "print (f\"Inode number: {info.st_ino}\")\n",
    "print (f\"Protection: {info.st_mode}\")\n",
    "print (f\"Number of hard links: {info.st_nlink}\")\n",
    "print (f\"User ID of owner: {info.st_uid}\")\n",
    "print (f\"Group ID of owner: {info.st_gid}\")\n",
    "print (f\"Total size, in bytes: {info.st_size}\")\n",
    "print (f\"Time of last access: {info.st_atime}\")\n",
    "print (f\"Time of last modification: {info.st_mtime }\")\n",
    "print (f\"Time of last status change: {info.st_ctime }\")\n",
    "os.close( fd)"
   ]
  },
  {
   "attachments": {},
   "cell_type": "markdown",
   "metadata": {},
   "source": [
    "16. Write a Python program to write a string to a buffer and retrieve the value written, at the end discard buffer memory."
   ]
  },
  {
   "cell_type": "code",
   "execution_count": 17,
   "metadata": {},
   "outputs": [],
   "source": [
    "import io"
   ]
  },
  {
   "cell_type": "code",
   "execution_count": 18,
   "metadata": {},
   "outputs": [
    {
     "name": "stdout",
     "output_type": "stream",
     "text": [
      "Python Exercises, Practice, Solution\n"
     ]
    }
   ],
   "source": [
    "# Write a string to a buffer\n",
    "output = io.StringIO()\n",
    "output.write('Python Exercises, Practice, Solution')\n",
    "# Retrieve the value written\n",
    "print(output.getvalue())\n",
    "# Discard buffer memory\n",
    "output.close()"
   ]
  },
  {
   "attachments": {},
   "cell_type": "markdown",
   "metadata": {},
   "source": [
    "17. Write a Python program to run an operating system command using the OS module."
   ]
  },
  {
   "cell_type": "code",
   "execution_count": 19,
   "metadata": {},
   "outputs": [
    {
     "data": {
      "text/plain": [
       "'posix'"
      ]
     },
     "execution_count": 19,
     "metadata": {},
     "output_type": "execute_result"
    }
   ],
   "source": [
    "os.name"
   ]
  },
  {
   "cell_type": "code",
   "execution_count": 20,
   "metadata": {},
   "outputs": [
    {
     "name": "stdout",
     "output_type": "stream",
     "text": [
      "total 144\n",
      "-rw-rw-r-- 1 cristian cristian    67 iun 10 21:22 abc.txt\n",
      "drwxrwxr-x 2 cristian cristian  4096 iun 10 19:08 BOOK\n",
      "-rw-rw-r-- 1 cristian cristian   101 iun 11 10:25 b.txt\n",
      "-rw-rw-r-- 1 cristian cristian   795 iun 10 20:37 check_modules.py\n",
      "-rw-rw-r-- 1 cristian cristian   635 iun 10 20:51 data.txt\n",
      "-rw-rw-r-- 1 cristian cristian  2516 iun 10 20:39 get_data.py\n",
      "drwxrwxr-x 9 cristian cristian  4096 iun 10 19:55 Hands-on-NLP-with-NLTK-and-scikit-learn--master\n",
      "-rw-rw-r-- 1 cristian cristian 25924 iun 10 19:00 Hands-on-NLP-with-NLTK-and-scikit-learn--master.zip\n",
      "-rw-rw-r-- 1 cristian cristian    99 iun 10 21:10 learn_os_cmds.py\n",
      "-rw-rw-r-- 1 cristian cristian 39917 iun 11 11:28 OS_cmds.ipynb\n",
      "drwxrwxr-x 8 cristian cristian  4096 iun 10 20:54 Raw_data\n",
      "-rw-rw-r-- 1 cristian cristian 38173 iun 11 10:48 test.ipynb\n"
     ]
    },
    {
     "data": {
      "text/plain": [
       "0"
      ]
     },
     "execution_count": 20,
     "metadata": {},
     "output_type": "execute_result"
    }
   ],
   "source": [
    "if os.name == \"nt\":\n",
    "   command = \"dir\"\n",
    "else:\n",
    "   command = \"ls -l\"\n",
    "os.system(command)"
   ]
  },
  {
   "attachments": {},
   "cell_type": "markdown",
   "metadata": {},
   "source": [
    "18. Write a Python program to start a new process replacing the current process."
   ]
  },
  {
   "cell_type": "code",
   "execution_count": null,
   "metadata": {},
   "outputs": [
    {
     "ename": "",
     "evalue": "",
     "output_type": "error",
     "traceback": [
      "\u001b[1;31mCannot execute code, session has been disposed. Please try restarting the Kernel."
     ]
    },
    {
     "ename": "",
     "evalue": "",
     "output_type": "error",
     "traceback": [
      "\u001b[1;31mThe Kernel crashed while executing code in the the current cell or a previous cell. Please review the code in the cell(s) to identify a possible cause of the failure. Click <a href='https://aka.ms/vscodeJupyterKernelCrash'>here</a> for more info. View Jupyter <a href='command:jupyter.viewOutput'>log</a> for further details."
     ]
    }
   ],
   "source": [
    "import sys\n",
    "program = \"python\"\n",
    "arguments = [\"hello.py\"]\n",
    "print(os.execvp(program, (program,) + tuple(arguments)))\n",
    "print(\"Goodbye\")"
   ]
  }
 ],
 "metadata": {
  "kernelspec": {
   "display_name": ".venv",
   "language": "python",
   "name": "python3"
  },
  "language_info": {
   "codemirror_mode": {
    "name": "ipython",
    "version": 3
   },
   "file_extension": ".py",
   "mimetype": "text/x-python",
   "name": "python",
   "nbconvert_exporter": "python",
   "pygments_lexer": "ipython3",
   "version": "3.8.17"
  },
  "orig_nbformat": 4
 },
 "nbformat": 4,
 "nbformat_minor": 2
}
